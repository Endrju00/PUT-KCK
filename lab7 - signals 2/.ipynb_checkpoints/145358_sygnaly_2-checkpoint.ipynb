{
 "cells": [
  {
   "cell_type": "markdown",
   "metadata": {
    "id": "MKd6YWPYExJX"
   },
   "source": [
    "# Zadanie 1 - aktywnosc slonca"
   ]
  },
  {
   "cell_type": "markdown",
   "metadata": {
    "id": "nXZxUUQyExJf"
   },
   "source": [
    "Plik spots.txt zawiera wartości aktywności Słońca w kolejnych miesiącach. Wykreśl ten sygnał oraz jego spektrum. Za pomocą FFT, oblicz częstotliwość cyklu aktywności słonecznej.  Przydatne mogą być następujące konstrukcje:\n",
    "\n",
    "array = genfromtxt(‘spots.txt’)  (lub array=[float(x) for x in open('spots.txt').read().split()])\n",
    "\n",
    "x = max(array)"
   ]
  },
  {
   "cell_type": "code",
   "execution_count": null,
   "metadata": {
    "id": "creQtMgiExJi"
   },
   "outputs": [],
   "source": [
    "# importing libraries\n",
    "import numpy as np\n",
    "import matplotlib.pyplot as plt"
   ]
  },
  {
   "cell_type": "code",
   "execution_count": null,
   "metadata": {
    "colab": {
     "base_uri": "https://localhost:8080/"
    },
    "id": "DT4c4ScGFeKt",
    "outputId": "5ccc2391-a458-480b-d14f-796b32513ae0"
   },
   "outputs": [],
   "source": [
    "# loading the data\n",
    "data = np.genfromtxt('data/spots.txt')\n",
    "data"
   ]
  },
  {
   "cell_type": "code",
   "execution_count": null,
   "metadata": {
    "colab": {
     "base_uri": "https://localhost:8080/",
     "height": 444
    },
    "id": "NevATsuIFnJl",
    "outputId": "1340fe27-39ed-4779-9f4d-5b5418d135e4"
   },
   "outputs": [],
   "source": [
    "data_f = np.abs(np.fft.fft(data))  # applying discrete fourier transform\n",
    "w = 1/(24*3600*30)  # 1/month_in_seconds, the sampling frequency\n",
    "n = len(data)\n",
    "\n",
    "freqs = np.linspace(0, w, n)\n",
    "\n",
    "\n",
    "plt.figure(figsize=(15, 6), dpi=80)\n",
    "plt.subplot(1, 2, 1)\n",
    "plt.title('Occurances per month')\n",
    "plt.ylabel('Count')\n",
    "plt.xlabel('No. month')\n",
    "plt.plot(data)\n",
    "\n",
    "plt.subplot(1, 2, 2)\n",
    "plt.title('Frequency domain')\n",
    "plt.stem(freqs, data_f, '-*', use_line_collection=True)\n",
    "plt.xlabel('Frequency [Hz]')\n",
    "plt.ylabel('Count')\n",
    "\n",
    "plt.show()"
   ]
  },
  {
   "cell_type": "markdown",
   "metadata": {
    "id": "m9Nypz-IWC29"
   },
   "source": [
    "##### W celu wyznaczenia częstotliwości cyklu należy wybrać częstotliwość najwyższego prążka (poza zerowym)."
   ]
  },
  {
   "cell_type": "code",
   "execution_count": null,
   "metadata": {
    "colab": {
     "base_uri": "https://localhost:8080/"
    },
    "id": "eN4S1HIlWn1I",
    "outputId": "88dc0cf7-3ef4-4474-871e-ea116168bbd6"
   },
   "outputs": [],
   "source": [
    "occ_freq, _ = freqs[1:][data_f[1:] > 5000]\n",
    "period_in_years = (1/(occ_freq))/(3600*24*30*12)\n",
    "\n",
    "print(f'Occurance frequency [in Hz]: {occ_freq:.3e}')\n",
    "print(f'The period [in years]: {period_in_years:.3f}')"
   ]
  },
  {
   "cell_type": "markdown",
   "metadata": {
    "id": "PPwfPDcLW_up"
   },
   "source": [
    "##### Częstotliwość cyklu aktywności słonecznej jest równa około 2.8nHz, zatem cykl trwa około 11lat."
   ]
  },
  {
   "cell_type": "markdown",
   "metadata": {
    "id": "lp5BUuDOExJk"
   },
   "source": [
    "# Zadanie 2 - proste filtrowanie"
   ]
  },
  {
   "cell_type": "markdown",
   "metadata": {
    "id": "ZjyMS0ICExJl"
   },
   "source": [
    "Wykreśl sygnał $sin(2*pi*t) + sin(4*pi*t)$, T=1s, w=20Hz. Za pomocą FFT, przekształć sygnał do dziedziny częstotliwości. Następnie usuń składowe o częstotliwości 2Hz. Tak zmodyfikowany sygnał przekształć do dziedziny czasu i wykreśl go."
   ]
  },
  {
   "cell_type": "code",
   "execution_count": null,
   "metadata": {
    "colab": {
     "base_uri": "https://localhost:8080/",
     "height": 444
    },
    "id": "TGQii_74ExJm",
    "jupyter": {
     "outputs_hidden": true
    },
    "outputId": "00037411-832b-425a-b330-a6bd1f6882c7"
   },
   "outputs": [],
   "source": [
    "T = 1\n",
    "w = 20\n",
    "TW = 1/w\n",
    "t = np.arange(0, T, TW)\n",
    "n = len(t)\n",
    "\n",
    "FUNC = lambda t: np.sin(2*np.pi*t) + np.sin(4*np.pi*t)\n",
    "signal = FUNC(t)  # calculating the original signal\n",
    "\n",
    "base_t = np.arange(0, T, 1/200)\n",
    "base_signal = FUNC(base_t)  # creating a smoother original signal\n",
    "\n",
    "signal_f = np.fft.fft(signal)  # applying discrete fourier transform\n",
    "freqs = np.linspace(0, w, n)\n",
    "abs_signal_f = np.abs(signal_f)\n",
    "\n",
    "to_filter = [2]  # creating an indices mask to filter the original signal\n",
    "filtered_signal_f = np.copy(signal_f)\n",
    "filtered_signal_f[to_filter] = 0  # removing the 2Hz frequency\n",
    "\n",
    "filtered_signal = np.real(np.fft.ifft(filtered_signal_f))  # applying inverse dicrete fourier transform\n",
    "\n",
    "# plotting\n",
    "plt.figure(figsize=(15, 6), dpi=80)\n",
    "plt.subplot(1, 2, 1)\n",
    "plt.title('FUNC(t)')\n",
    "plt.ylabel('FUNC(t)')\n",
    "plt.xlabel('t [s]')\n",
    "plt.plot(t, signal, 'o')\n",
    "plt.plot(t, filtered_signal, 'o')\n",
    "plt.plot(base_t, base_signal, color='blue')\n",
    "plt.legend(['Original signal', 'Modified signal'])\n",
    "\n",
    "plt.subplot(1, 2, 2)\n",
    "plt.title('Frequency domain (original signal)')\n",
    "plt.stem(freqs, abs_signal_f, '-*', use_line_collection=True)\n",
    "plt.xlabel('Frequency [Hz]')\n",
    "plt.ylabel('Count')\n",
    "\n",
    "plt.show()"
   ]
  },
  {
   "cell_type": "markdown",
   "metadata": {},
   "source": [
    "##### Prążkiem odpowiedzialnym za częstotliwość 2Hz jest prążek nr. 3 (prążek o indeksie 2 w tablicy)"
   ]
  },
  {
   "cell_type": "markdown",
   "metadata": {
    "id": "YWY6YkSJExJn"
   },
   "source": [
    "# Zadanie 3 - Informacja o fazie"
   ]
  },
  {
   "cell_type": "markdown",
   "metadata": {
    "id": "e4XrIhRkExJp"
   },
   "source": [
    "Wykreśl sygnał $sin(2*pi*t) + sin(4*pi*t)$, T=1s, w=20Hz. Tym razem oprócz spektrum, wykreśl wykres z informacją o fazie poszczególnych częstotliwości (faza = arg(z)), gdzie z=a+bi. To samo wykonaj dla sin(2*pi*t) + cos(4*pi*t). Porównaj otrzymane wykresy. Przydatna może być funkcja angle (z parametrem deg=True)"
   ]
  },
  {
   "cell_type": "code",
   "execution_count": null,
   "metadata": {
    "colab": {
     "base_uri": "https://localhost:8080/",
     "height": 933
    },
    "id": "w_jQRjtbExJq",
    "jupyter": {
     "outputs_hidden": true
    },
    "outputId": "ce5b26c0-bdf1-45c0-d41b-37e401a21387"
   },
   "outputs": [],
   "source": [
    "def func_1(t):\n",
    "    \"\"\"sin(2*pi*t) + sin(4*pi*t)\"\"\"\n",
    "    return np.sin(2*np.pi*t) + np.sin(4*np.pi*t)\n",
    "\n",
    "\n",
    "def func_2(t):\n",
    "    \"\"\"sin(2*pi*t) + cos(4*pi*t)\"\"\"\n",
    "    return np.sin(2*np.pi*t) + np.cos(4*np.pi*t)\n",
    "\n",
    "\n",
    "T = 1\n",
    "w = 20\n",
    "TW = 1/w\n",
    "t = np.arange(0, T, TW)\n",
    "n = len(t)\n",
    "\n",
    "funcs = [func_1, func_2]\n",
    "for func in funcs:\n",
    "    signal = func(t)\n",
    "\n",
    "    base_t = np.arange(0, T, 1/200)\n",
    "    base_signal = func(base_t)  # creating a smoother original signal\n",
    "\n",
    "    freqs = np.linspace(0, w, n)\n",
    "    signal_f = np.fft.fft(signal)\n",
    "    abs_signal_f = np.abs(signal_f)\n",
    "\n",
    "    phase = np.angle(signal_f, deg=True)\n",
    "\n",
    "    plt.figure(figsize=(20, 6), dpi=80)\n",
    "    plt.suptitle(f'FUNC: {func.__doc__}')\n",
    "    plt.subplot(1, 3, 1)\n",
    "    plt.title('FUNC(t)')\n",
    "    plt.ylabel('FUNC(t)')\n",
    "    plt.xlabel('t [s]')\n",
    "    plt.ylim(-2.2, 2.2)\n",
    "    plt.plot(t, signal, 'o')\n",
    "    plt.plot(base_t, base_signal, color='blue')\n",
    "\n",
    "    plt.subplot(1, 3, 2)\n",
    "    plt.title('Frequency domain')\n",
    "    plt.stem(freqs, abs_signal_f, '-*', use_line_collection=True)\n",
    "    plt.xlabel('Frequency [Hz]')\n",
    "    plt.ylabel('Count')\n",
    "\n",
    "    plt.subplot(1, 3, 3)\n",
    "    plt.title('Phase (Hz)')\n",
    "    plt.stem(freqs, phase, '-*', use_line_collection=True)\n",
    "    plt.ylim((-190, 190))\n",
    "    plt.yticks(range(-180, 181, 45))\n",
    "    plt.xlabel('Frequency [Hz]')\n",
    "    plt.ylabel('Phase (deg)')\n",
    "\n",
    "    plt.show()"
   ]
  },
  {
   "cell_type": "markdown",
   "metadata": {
    "id": "3aDId2Crv8_N"
   },
   "source": [
    "##### Wykresy spektrum dla tych dwóch funkcji są identyczne, natomiast wykresy faz dla każdej częstotliwości znacząco różnią się od siebie."
   ]
  },
  {
   "cell_type": "markdown",
   "metadata": {
    "id": "zPXHEuJuExJs"
   },
   "source": [
    "# Zadanie 4 - plik wejsciowy audio"
   ]
  },
  {
   "cell_type": "markdown",
   "metadata": {
    "id": "9lINepxqExJt"
   },
   "source": [
    "Wczytaj plik err.wav. Wykreśl jego spektrum. Spróbuj także skali logarytmicznej. Określ dominujące w sygnale częstotliwości. Przydatne:\n",
    "\n",
    "import scipy.io.wavfile\n",
    "\n",
    "w, signal = scipy.io.wavfile.read('err.wav')\n",
    "\n",
    "signal = [s[0] for s in signal]   #Tylko pierwszy kanał\n",
    "\n",
    "yscale(‘log’)\n",
    "\n",
    "spectrum[::10]        # co 10-ty element\n"
   ]
  },
  {
   "cell_type": "code",
   "execution_count": null,
   "metadata": {},
   "outputs": [],
   "source": [
    "import scipy.io.wavfile\n",
    "\n",
    "w, signal = scipy.io.wavfile.read('data/err.wav')\n",
    "signal = signal[:, 0]  # only the first channel\n",
    "signal_fft = np.fft.fft(signal)\n",
    "abs_signal_fft = np.abs(signal_fft)\n",
    "freqs = np.linspace(0, w, len(signal))\n",
    "\n",
    "plt.figure(figsize=(15, 6), dpi=80)\n",
    "plt.subplot(1, 2, 1)\n",
    "plt.title('Default scale')\n",
    "plt.xlabel('Frequency [Hz]')\n",
    "plt.plot(freqs, abs_signal_fft)\n",
    "\n",
    "plt.subplot(1, 2, 2)\n",
    "plt.title('Log scale')\n",
    "plt.xlabel('Frequency [Hz]')\n",
    "plt.plot(freqs, abs_signal_fft)\n",
    "plt.yscale('log')\n",
    "\n",
    "plt.show()\n",
    "\n",
    "dominant_freqs = freqs[abs_signal_fft > 3e6]\n",
    "print(dominant_freqs)"
   ]
  },
  {
   "cell_type": "markdown",
   "metadata": {},
   "source": [
    "##### Dominującymi częstotliwościami są częstotliwości 929-932Hz oraz 1242-1243Hz. Pozostałe częstotliwości w tablicy są ich lustrzanym odbiciem."
   ]
  },
  {
   "cell_type": "code",
   "execution_count": null,
   "metadata": {},
   "outputs": [],
   "source": []
  }
 ],
 "metadata": {
  "colab": {
   "collapsed_sections": [],
   "name": "145402_145280_sygnaly_2.ipynb",
   "provenance": []
  },
  "kernelspec": {
   "display_name": "Python 3",
   "language": "python",
   "name": "python3"
  },
  "language_info": {
   "codemirror_mode": {
    "name": "ipython",
    "version": 3
   },
   "file_extension": ".py",
   "mimetype": "text/x-python",
   "name": "python",
   "nbconvert_exporter": "python",
   "pygments_lexer": "ipython3",
   "version": "3.7.4"
  }
 },
 "nbformat": 4,
 "nbformat_minor": 1
}
