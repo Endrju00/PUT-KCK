{
 "cells": [
  {
   "cell_type": "markdown",
   "metadata": {},
   "source": [
    "# ZADANIE 1"
   ]
  },
  {
   "cell_type": "markdown",
   "metadata": {},
   "source": [
    "a) Wykonaj poniższy skrypt i przeanalizuj go:"
   ]
  },
  {
   "cell_type": "code",
   "execution_count": null,
   "metadata": {},
   "outputs": [],
   "source": [
    "from __future__ import division\n",
    "from pylab import *\n",
    "from numpy import *\n",
    "from scipy import *\n",
    "from ipywidgets import *\n",
    "import math as mt\n",
    "\n",
    "%matplotlib inline\n",
    "\n",
    "A = 1\n",
    "# Amplituda sygnału\n",
    "\n",
    "LP = 1 \n",
    "# Liczba analizowanych pełnych przebiegów sygnału (okresów)\n",
    "w = 40           \n",
    "# czśstotliwość probkowania [Hz] sygnału \n",
    "#(jak często w ciągu sekundy pobieramy informacje o wartości sygnału)\n",
    "\n",
    "f = 2.0           \n",
    "# Czestotliwosc sygnalu [Hz]\n",
    "\n",
    "T = 1.0/f        \n",
    "# Okres sygnalu [s] (jak długo trwa jeden przebieg sinusa)\n",
    "\n",
    "TW = 1.0/w        \n",
    "# Okres probkowania [s] (co ile sekund pobieramy próbkę)\n",
    "\n",
    "t = np.arange(0, LP*T, TW)\n",
    "# generujemy momenty, w których pobieramy próbki\n",
    "\n",
    "n = len(t)\n",
    "    \n",
    "FUNC = lambda t : A*np.sin(2*np.pi*t*f)    \n",
    "# def. funkcji (tutaj sinus)\n",
    "\n",
    "signal = FUNC(t)                 \n",
    "# funkcja sprobkowana\n",
    "\n",
    "fig = plt.figure(figsize=(15, 6), dpi=80)   \n",
    "ax = fig.add_subplot(121)\n",
    "## --- POMOCNICZY SYGNAL\n",
    "base_t = np.arange(0, LP*T, 1.0/200.0)\n",
    "base_signal = FUNC(base_t)\n",
    "ax.plot(base_t, base_signal, linestyle='-', color='red')\n",
    "ax.set_ylim([min(base_signal), max(base_signal)])\n",
    "## --- \n",
    "ax.plot(t, signal, 'o')\n",
    "\n",
    "signal1 = np.fft.fft(signal)\n",
    "# sygnal w dziedzinie czestotliwosci \n",
    "signal1 = np.abs(signal1)        \n",
    "# modul sygnalu\n",
    "\n",
    "freqs = range(int(n))\n",
    "\n",
    "ax = fig.add_subplot(122)\n",
    "ymax = max(signal1)\n",
    "if (ymax > 3.0):\n",
    "    ax.set_ylim([0.0,ymax])\n",
    "else:\n",
    "    ax.set_ylim([0.0,3.0])\n",
    "stem(freqs, signal1, '-*')\n",
    "\n",
    "show()"
   ]
  },
  {
   "cell_type": "markdown",
   "metadata": {},
   "source": [
    "UWAGA: do dalszych ćwiczeń warto powyższy skrypt przekształcić na funkcję o wielu argumentach, typu: amplituda, częstotliwość próbkowania, liczba przebiegów. Oczywiście dla wygody, należy nadać wartości domyślne argumentom funkcji."
   ]
  },
  {
   "cell_type": "code",
   "execution_count": null,
   "metadata": {},
   "outputs": [],
   "source": [
    "# Zdefiniuj funckję\n",
    "def draw_function(A=1, f=2, w=40, LP=1):\n",
    "    T = 1/f\n",
    "    TW = 1/w\n",
    "    t = np.arange(0, LP*T, TW)\n",
    "    n = len(t)\n",
    "    \n",
    "    FUNC = lambda t: A*np.sin(2*np.pi*t*f)\n",
    "    \n",
    "    signal = FUNC(t)\n",
    "    signal_f = np.abs(np.fft.fft(signal))\n",
    "    freqs = range(int(n))\n",
    "    \n",
    "    base_t = np.arange(0, LP*T, 1/200)\n",
    "    base_signal = FUNC(base_t)\n",
    "    \n",
    "    plt.figure(figsize=(15, 6), dpi=80)\n",
    "    \n",
    "    plt.subplot(1, 2, 1)\n",
    "    plt.plot(base_t, base_signal, linestyle='-', color='red')\n",
    "    plt.plot(t, signal, 'o')\n",
    "    plt.ylim([min(base_signal), max(base_signal)])\n",
    "    \n",
    "    plt.subplot(1, 2, 2)\n",
    "    plt.stem(freqs, signal_f, '-*')\n",
    "    plt.ylim([0, max(3, max(signal_f))])\n",
    "    \n",
    "    plt.show()"
   ]
  },
  {
   "cell_type": "markdown",
   "metadata": {},
   "source": [
    "UWAGA DLA CHĘTNYCH: można wykorzystać 'interact', dzięki któremu można zmieniac parametry danej funkcji i na bieżąco obserwować zmiany. Poniższy kod przedstawia sposób wykorzystania interact:"
   ]
  },
  {
   "cell_type": "code",
   "execution_count": null,
   "metadata": {},
   "outputs": [],
   "source": [
    "from ipykernel.pylab.backend_inline import flush_figures\n",
    "\n",
    "def prosta(a=2, b=0):\n",
    "    x = linspace(-5, 5, 100, endpoint=False) # punkty na osi OX [s]\n",
    "    f = lambda x : a*x + b\n",
    "    y = f(x)   \n",
    "    \n",
    "    fig = plt.figure(figsize=(6, 3), dpi=80)\n",
    "    ax = fig.add_subplot(111)\n",
    "    ax.set_xlim(-5, 5)\n",
    "    ax.set_ylim(-5, 5)\n",
    "    ax.plot(x, y)\n",
    "    flush_figures()\n",
    "    \n",
    "interact(prosta, a=(-5,5,0.5), b=(-5,5,0.5))"
   ]
  },
  {
   "cell_type": "markdown",
   "metadata": {},
   "source": [
    "b) Zmień częstotliwość próbkowania na 50Hz."
   ]
  },
  {
   "cell_type": "code",
   "execution_count": null,
   "metadata": {},
   "outputs": [],
   "source": [
    "# w=50\n",
    "draw_function(w=50)"
   ]
  },
  {
   "cell_type": "markdown",
   "metadata": {},
   "source": [
    "c) Punkty na osi OX spektrum są teraz kolejnymi liczbami naturalnymi, a nie częstotliwościami w Hz. Popraw skrypt (funkcje), tak aby oś OX spektrum była w Hz (podpowiedź: oś OX rozpoczyna się od 0Hz, a kończy się na (prawie!)  Hz, gdzie  jest częstotliwością próbkowania). Następnie: Upewnij się, że spektrum dla 1Hz-owego sinusa i pięciu (LP=5) analizowanych przebiegów wygląda teraz prawidłowo."
   ]
  },
  {
   "cell_type": "code",
   "execution_count": null,
   "metadata": {},
   "outputs": [],
   "source": [
    "# popraw oś OX\n",
    "def draw_function(A=1, f=2, w=40, LP=1):\n",
    "    T = 1/f\n",
    "    TW = 1/w\n",
    "    t = np.arange(0, LP*T, TW)\n",
    "    n = len(t)\n",
    "    \n",
    "    FUNC = lambda t: A*np.sin(2*np.pi*t*f)\n",
    "    \n",
    "    signal = FUNC(t)\n",
    "    signal_f = np.abs(np.fft.fft(signal))\n",
    "    freqs = np.linspace(0, w, n)  # changed from range(int(n))\n",
    "    \n",
    "    base_t = np.arange(0, LP*T, 1/200)\n",
    "    base_signal = FUNC(base_t)\n",
    "    \n",
    "    plt.figure(figsize=(15, 6), dpi=80)\n",
    "    \n",
    "    plt.subplot(1, 2, 1)\n",
    "    plt.plot(base_t, base_signal, linestyle='-', color='red')\n",
    "    plt.plot(t, signal, 'o')\n",
    "    plt.ylim([min(base_signal), max(base_signal)])\n",
    "    \n",
    "    plt.subplot(1, 2, 2)\n",
    "    plt.stem(freqs, signal_f, '-*')\n",
    "    plt.ylim([0, max(3, max(signal_f))])\n",
    "    \n",
    "    plt.show()\n",
    "\n",
    "    \n",
    "interact(draw_function, w=(10, 100, 5))"
   ]
  },
  {
   "cell_type": "markdown",
   "metadata": {},
   "source": [
    "d) Podpisz osie obu wykresów, używając funkcji xlabel() i ylabel(). Pamiętaj o jednostkach."
   ]
  },
  {
   "cell_type": "code",
   "execution_count": null,
   "metadata": {},
   "outputs": [],
   "source": [
    "# Podpisz osie wykresów\n",
    "def draw_function(A=1, f=2, w=40, LP=1):\n",
    "    T = 1/f\n",
    "    TW = 1/w\n",
    "    t = np.arange(0, LP*T, TW)\n",
    "    n = len(t)\n",
    "    \n",
    "    FUNC = lambda t: A*np.sin(2*np.pi*t*f)\n",
    "    \n",
    "    signal = FUNC(t)\n",
    "    signal_f = np.abs(np.fft.fft(signal))\n",
    "    freqs = np.linspace(0, w, n)\n",
    "    \n",
    "    base_t = np.arange(0, LP*T, 1/200)\n",
    "    base_signal = FUNC(base_t)\n",
    "    \n",
    "    plt.figure(figsize=(15, 6), dpi=80)\n",
    "    \n",
    "    plt.subplot(1, 2, 1)\n",
    "    plt.plot(base_t, base_signal, linestyle='-', color='red')\n",
    "    plt.plot(t, signal, 'o')\n",
    "    plt.ylim([min(base_signal), max(base_signal)])\n",
    "    plt.xlabel('Time (t) [s]')  # added\n",
    "    plt.ylabel('FUNC(t)')  # added\n",
    "    \n",
    "    plt.subplot(1, 2, 2)\n",
    "    plt.stem(freqs, signal_f, '-*')\n",
    "    plt.ylim([0, max(3, max(signal_f))])\n",
    "    plt.ylabel('Count')  # added\n",
    "    plt.xlabel('Frequency [Hz]')  # added\n",
    "    \n",
    "    plt.show()\n",
    "\n",
    "\n",
    "draw_function()"
   ]
  },
  {
   "cell_type": "markdown",
   "metadata": {},
   "source": [
    "f) Porównaj spektrum funkcji $sin(2*pi*f*t)$, $2*sin(2*pi*f*t)$ i $3*sin(2*pi*f*t)$. Jak zmienia się wartość na osi OY na wykresie spektrum?"
   ]
  },
  {
   "cell_type": "code",
   "execution_count": null,
   "metadata": {},
   "outputs": [],
   "source": [
    "# f=1, A=1, LP=1\n",
    "draw_function(f=1, A=1, LP=1)"
   ]
  },
  {
   "cell_type": "code",
   "execution_count": null,
   "metadata": {},
   "outputs": [],
   "source": [
    "# f=1, A=2, LP=1\n",
    "draw_function(f=1, A=2, LP=1)"
   ]
  },
  {
   "cell_type": "code",
   "execution_count": null,
   "metadata": {
    "scrolled": false
   },
   "outputs": [],
   "source": [
    "# f=1, A=3, LP=1\n",
    "draw_function(f=1, A=3, LP=1)"
   ]
  },
  {
   "cell_type": "markdown",
   "metadata": {},
   "source": [
    "##### Oś OY na wykresie spektrum jest wprost proporcjonalna do amplitudy"
   ]
  },
  {
   "cell_type": "markdown",
   "metadata": {},
   "source": [
    "g) Ile punktów jest na wykresach przy częstotliwości próbkowania 50Hz, T=1s? Zwiększ dwukrotnie liczbę próbek poprzez zwiększenie częstotliwości próbkowania. Następnie: dla $sin(2*pi*f*t)$ porównaj wartość na osi OY spektrum uzyskane w tym oraz poprzednim punkcie."
   ]
  },
  {
   "cell_type": "code",
   "execution_count": null,
   "metadata": {},
   "outputs": [],
   "source": [
    "# f=1, w=50, LP=1\n",
    "draw_function(f=1, w=50, LP=1)"
   ]
  },
  {
   "cell_type": "code",
   "execution_count": null,
   "metadata": {},
   "outputs": [],
   "source": [
    "# f=1, w=100, LP=1\n",
    "draw_function(f=1, w=100, LP=1)"
   ]
  },
  {
   "cell_type": "markdown",
   "metadata": {},
   "source": [
    "##### Dla pierwszego wykresu jest 50 punktów, dla drugiego 100. Liczba punktów jest równa LP*w/f. Maksymalne wartości na osi OY są zależne nie tylko od amplitudy, ale również od częstotliwości próbkowania."
   ]
  },
  {
   "cell_type": "markdown",
   "metadata": {},
   "source": [
    "h) Na podstawie wyników uzyskanych w dwóch poprzednich punktach przeskaluj oś OY spektrum tak, aby wskazywała wartości amplitud badanych sygnałów. Sprawdź wyniki dla kilku wybranych funkcji."
   ]
  },
  {
   "cell_type": "code",
   "execution_count": null,
   "metadata": {},
   "outputs": [],
   "source": [
    "# popraw oś OY\n",
    "def draw_function(A=1, f=2, w=40, LP=1):\n",
    "    T = 1/f\n",
    "    TW = 1/w\n",
    "    t = np.arange(0, LP*T, TW)\n",
    "    n = len(t)\n",
    "    \n",
    "    FUNC = lambda t: A*np.sin(2*np.pi*t*f)\n",
    "    \n",
    "    signal = FUNC(t)\n",
    "    signal_f = np.abs(np.fft.fft(signal))/(n/2)  # changed from np.abs(np.fft.fft(signal))\n",
    "    freqs = np.linspace(0, w, n)\n",
    "    \n",
    "    base_t = np.arange(0, LP*T, 1/200)\n",
    "    base_signal = FUNC(base_t)\n",
    "    \n",
    "    plt.figure(figsize=(15, 6), dpi=80)\n",
    "    \n",
    "    plt.subplot(1, 2, 1)\n",
    "    plt.plot(base_t, base_signal, linestyle='-', color='red')\n",
    "    plt.plot(t, signal, 'o')\n",
    "    plt.ylim([min(base_signal), max(base_signal)])\n",
    "    plt.xlabel('Time (t) [s]')\n",
    "    plt.ylabel('FUNC(t)')\n",
    "    \n",
    "    plt.subplot(1, 2, 2)\n",
    "    plt.stem(freqs, signal_f, '-*')\n",
    "    plt.ylim([0, max(3, max(signal_f))])\n",
    "    plt.ylabel('Amplitude')\n",
    "    plt.xlabel('Frequency [Hz]')\n",
    "    \n",
    "    plt.show()\n",
    "\n",
    "\n",
    "draw_function(A=3)"
   ]
  },
  {
   "cell_type": "markdown",
   "metadata": {},
   "source": [
    "# Zadanie 2"
   ]
  },
  {
   "cell_type": "markdown",
   "metadata": {},
   "source": [
    "a) Wygeneruj spektrum dla funkcji sinus o częstotliwościach 5Hz i 21Hz, dla czestotliwości próbkowania 20Hz i 20 (LP=20) analizowanych przebiegów. Czy rozpoznajesz te funkcje patrząc na ich spróbkowane wykresy? Odczytaj w drugim przypadku uzyskaną częstotliwość z FFT. Dlaczego uzyskano taki wynik?"
   ]
  },
  {
   "cell_type": "code",
   "execution_count": null,
   "metadata": {},
   "outputs": [],
   "source": [
    "# f=5, w=20, LP=20\n",
    "draw_function(f=5, w=20, LP=20)"
   ]
  },
  {
   "cell_type": "code",
   "execution_count": null,
   "metadata": {},
   "outputs": [],
   "source": [
    "# f=21, w=20, LP=20\n",
    "draw_function(f=21, w=20, LP=20)"
   ]
  },
  {
   "cell_type": "markdown",
   "metadata": {},
   "source": [
    "##### Z uwagi na niską częstotliwość próbkowania w porównaniu do częstotliwości funkcji sinusoidalnej, spróbkowane wykresy słabo przedstawiają bazową funkcję.  \n",
    "##### Dla drugiego przypadku uzyskano częstotliwość 20Hz, ponieważ dla powyższych danych wykres spróbkowanej funkcji wygląda jak wykres funkcji sinus dla innej częstotliwości."
   ]
  },
  {
   "cell_type": "markdown",
   "metadata": {},
   "source": [
    "Zwróć uwagę, że spektrum jest symetryczne (poza pierwszym elementem)."
   ]
  },
  {
   "cell_type": "markdown",
   "metadata": {},
   "source": [
    "b) Przy w=100Hz, przeanalizuj widma sygnałów:"
   ]
  },
  {
   "cell_type": "markdown",
   "metadata": {},
   "source": [
    "i) $sin(2*pi*t*f)$, $f=10Hz$"
   ]
  },
  {
   "cell_type": "code",
   "execution_count": null,
   "metadata": {},
   "outputs": [],
   "source": [
    "# f=10, w=100, A=1, LP=10\n",
    "draw_function(f=10, w=100, A=1, LP=10)"
   ]
  },
  {
   "cell_type": "markdown",
   "metadata": {},
   "source": [
    "ii) $sin(2*pi*t*f)$, $f=20Hz$"
   ]
  },
  {
   "cell_type": "code",
   "execution_count": null,
   "metadata": {},
   "outputs": [],
   "source": [
    "# f=20, w=100, A=1, LP=10\n",
    "draw_function(f=20, w=100, A=1, LP=10)"
   ]
  },
  {
   "cell_type": "markdown",
   "metadata": {},
   "source": [
    "iii) $sin(2*pi*t*f)$, $f=30Hz$ (tutaj słupki nie będą wyglądać idealnie; dlaczego?)"
   ]
  },
  {
   "cell_type": "code",
   "execution_count": null,
   "metadata": {},
   "outputs": [],
   "source": [
    "# f=30, w=100, A=1, LP=10\n",
    "draw_function(f=30, w=100, A=1, LP=10)"
   ]
  },
  {
   "cell_type": "markdown",
   "metadata": {},
   "source": [
    "##### słupki nie wyglądają idealnie, ponieważ przy takiej częstotliwości próbkowania i częstotliwości sygnału, spróbkowane wartości omijają w niektórych miejscach wartości maksymalne funkcji (amplitudy), przez co wykres spróbkowanych wartości nie wyglądałby jak idealny sinus"
   ]
  },
  {
   "cell_type": "markdown",
   "metadata": {},
   "source": [
    "iv) $sin(2*pi*t*f)$, $f=40Hz$"
   ]
  },
  {
   "cell_type": "code",
   "execution_count": null,
   "metadata": {},
   "outputs": [],
   "source": [
    "# f=40, w=100, A=1, LP=10\n",
    "draw_function(f=40, w=100, A=1, LP=10)"
   ]
  },
  {
   "cell_type": "markdown",
   "metadata": {},
   "source": [
    "c) Przy F=50Hz, w=100Hz, wygeneruj spektrum dla $sin(2*pi*f*t)$. Zwróć uwagę na skalę wykresów."
   ]
  },
  {
   "cell_type": "code",
   "execution_count": null,
   "metadata": {},
   "outputs": [],
   "source": [
    "# f=50, w=100, A=1, LP=10\n",
    "draw_function(f=50, w=100, A=1, LP=10)"
   ]
  },
  {
   "cell_type": "markdown",
   "metadata": {},
   "source": [
    "c) Jak się nazywa twierdzenie, którego konsekwencją jest takie zachowanie się spektrum?"
   ]
  },
  {
   "cell_type": "markdown",
   "metadata": {},
   "source": [
    "##### Twierdzenie Kotielnikowa-Shannona"
   ]
  },
  {
   "cell_type": "markdown",
   "metadata": {},
   "source": [
    "# Zadanie 3"
   ]
  },
  {
   "cell_type": "markdown",
   "metadata": {},
   "source": [
    "Poniższe przypadki skłądają się z złożonych sygnałów. Trzeba teraz będzie zmodyfikować trochę FUNC"
   ]
  },
  {
   "cell_type": "markdown",
   "metadata": {},
   "source": [
    "a) $sin(2*pi*t*f) + 2*sin(4*pi*t*f)$, T=1s, w=20Hz."
   ]
  },
  {
   "cell_type": "code",
   "execution_count": null,
   "metadata": {},
   "outputs": [],
   "source": [
    "# Wyrysuj sygnał\n",
    "def draw_any_function(function, A=1, f=2, w=40, LP=1):\n",
    "    T = 1/f\n",
    "    TW = 1/w\n",
    "    t = np.arange(0, LP*T, TW)\n",
    "    n = len(t)\n",
    "    \n",
    "    \n",
    "    signal = function(t, f)\n",
    "    signal_f = np.abs(np.fft.fft(signal))/(n/2)\n",
    "    freqs = np.linspace(0, w, n)\n",
    "    \n",
    "    base_t = np.arange(0, LP*T, 1/200)\n",
    "    base_signal = function(base_t, f)\n",
    "    \n",
    "    plt.figure(figsize=(15, 6), dpi=80)\n",
    "    \n",
    "    plt.subplot(1, 2, 1)\n",
    "    plt.plot(base_t, base_signal, linestyle='-', color='red')\n",
    "    plt.plot(t, signal, 'o')\n",
    "    plt.ylim([min(base_signal), max(base_signal)])\n",
    "    plt.xlabel('Time (t) [s]')\n",
    "    plt.ylabel('FUNC(t)')\n",
    "    \n",
    "    plt.subplot(1, 2, 2)\n",
    "    plt.stem(freqs, signal_f, '-*')\n",
    "    plt.ylim([0, max(3, max(signal_f))])\n",
    "    plt.ylabel('Amplitude')\n",
    "    plt.xlabel('Frequency [Hz]')\n",
    "    \n",
    "    plt.show()\n",
    "\n",
    "\n",
    "draw_any_function(function=lambda _t, _f: np.sin(2*np.pi*_t*_f) + 2*np.sin(4*np.pi*_t*_f), f=1, w=20)"
   ]
  },
  {
   "cell_type": "markdown",
   "metadata": {},
   "source": [
    "c) Wygenerujemy trochę szumu. Wychodząc z funkcji sin(2*pi*t*f), dodamy do niej 100 losowych sinusów. Wygenerujemy dla nich losowo amplitudy (z [0.02, 0.08], częstotliwosci: [5.0, 10.0] oraz modyfikacje fazy[0 + 2*pi]. Inne parametry: w=20Hz, T=1s. Czy dla powyższych paramerów losowania, jesteś w stanie odnaleźć bazowy przebieg (sin(2*pi*t))? Czy jesteś w stanie zlokalizować szum?"
   ]
  },
  {
   "cell_type": "code",
   "execution_count": null,
   "metadata": {},
   "outputs": [],
   "source": [
    "f = 1\n",
    "w = 20\n",
    "LP = 1\n",
    "T = 1/f\n",
    "TW = 1/w\n",
    "t = np.arange(0, LP*T, TW)\n",
    "n = len(t)\n",
    "\n",
    "clean_func = lambda t: np.sin(2*np.pi*t*f)\n",
    "signal = clean_func(t)\n",
    "\n",
    "base_t = np.arange(0, LP*T, 1/200)\n",
    "base_signal = clean_func(base_t)\n",
    "signal_smooth = clean_func(base_t)\n",
    "\n",
    "for _ in range(100):\n",
    "    A_noise = np.random.uniform(0.02, 0.08)\n",
    "    f_noise = np.random.uniform(5, 10)\n",
    "    phi_noise = np.random.uniform(0, 2*np.pi)\n",
    "    \n",
    "    noise_func = lambda t: A_noise*np.sin(2*np.pi*t*f_noise + phi_noise)\n",
    "    noise = noise_func(t)\n",
    "    signal += noise\n",
    "    \n",
    "    noise_smooth = noise_func(base_t)\n",
    "    signal_smooth += noise_smooth\n",
    "\n",
    "signal_f = np.abs(np.fft.fft(signal))/(n/2)\n",
    "freqs = np.linspace(0, w, n)\n",
    "\n",
    "plt.figure(figsize=(15, 6), dpi=80)\n",
    "\n",
    "plt.subplot(1, 2, 1)\n",
    "plt.plot(base_t, base_signal, linestyle='-', color='red')\n",
    "plt.plot(base_t, signal_smooth, linestyle='-', color='blue')\n",
    "plt.plot(t, signal, 'o')\n",
    "plt.xlabel('Time (t) [s]')\n",
    "plt.ylabel('FUNC(t)')\n",
    "plt.legend(['Base sine function', 'Noisy sine function'])\n",
    "\n",
    "plt.subplot(1, 2, 2)\n",
    "plt.stem(freqs, signal_f, '-*')\n",
    "plt.ylim([0, max(3, max(signal_f))])\n",
    "plt.ylabel('Amplitude')\n",
    "plt.xlabel('Frequency [Hz]')\n",
    "\n",
    "plt.show()"
   ]
  },
  {
   "cell_type": "markdown",
   "metadata": {},
   "source": [
    "##### Tak, można odnaleźć przebieg funkcji bazowej. Szum to wartości częstotliwości z zakresu <5, 17)Hz"
   ]
  },
  {
   "cell_type": "markdown",
   "metadata": {},
   "source": [
    "d) $0.5 + 2*sin(2*pi*t*f)$, T=1s, w=20Hz. Czy amplituda zerowego prążka jest prawidłowa? Dlaczego? (Podpowiedź: zwróć jeszcze raz uwagę na “symetrię” spektrum)."
   ]
  },
  {
   "cell_type": "code",
   "execution_count": null,
   "metadata": {},
   "outputs": [],
   "source": [
    "# Wyrysuj sygnał\n",
    "draw_any_function(function=lambda _t, _f: 0.5 + 2*np.sin(2*np.pi*_t*_f), f=1, w=20)"
   ]
  },
  {
   "cell_type": "markdown",
   "metadata": {},
   "source": [
    "e) $sin(2*pi*t*f)$ oraz $sin(2*pi*t*f + pi/4)$ dla T=1s, w=20Hz. Czy informacja o fazie zniknęła? Poszukaj śladów tej informacji w tablicy, będącej wynikiem operacji fft(signal). (funkcja angle(sygnal, deg=True)"
   ]
  },
  {
   "cell_type": "code",
   "execution_count": null,
   "metadata": {},
   "outputs": [],
   "source": [
    "# faza = 0\n",
    "draw_any_function(function=lambda _t, _f: np.sin(2*np.pi*_t*_f), f=1, w=20)"
   ]
  },
  {
   "cell_type": "code",
   "execution_count": null,
   "metadata": {},
   "outputs": [],
   "source": [
    "# faza = pi/4\n",
    "draw_any_function(function=lambda _t, _f: np.sin(2*np.pi*_t*_f + np.pi/4), f=1, w=20)"
   ]
  },
  {
   "cell_type": "code",
   "execution_count": null,
   "metadata": {},
   "outputs": [],
   "source": [
    "f = 1\n",
    "w = 20\n",
    "LP = 1\n",
    "T = 1/f\n",
    "TW = 1/w\n",
    "t = np.arange(0, LP*T, TW)\n",
    "n = len(t)\n",
    "\n",
    "func_3e1=lambda t: np.sin(2*np.pi*t*f)\n",
    "signal_1 = func_3e1(t)\n",
    "signal_f1 = np.fft.fft(signal_1)\n",
    "print(np.angle(signal_f1, deg=True))\n",
    "\n",
    "func_3e2=lambda t: np.sin(2*np.pi*t*f + np.pi/4)\n",
    "signal_2 = func_3e2(t)\n",
    "signal_f2 = np.fft.fft(signal_2)\n",
    "print(np.angle(signal_f2, deg=True))"
   ]
  },
  {
   "cell_type": "markdown",
   "metadata": {},
   "source": [
    "### Informacja o fazie nie zniknęła"
   ]
  },
  {
   "cell_type": "markdown",
   "metadata": {},
   "source": [
    "# Zadanie 4"
   ]
  },
  {
   "cell_type": "markdown",
   "metadata": {},
   "source": [
    "Oblicz wynik ifft(fft(x)), gdzie x=random.random(10). Czy jakaś informacja została stracona?"
   ]
  },
  {
   "cell_type": "code",
   "execution_count": null,
   "metadata": {},
   "outputs": [],
   "source": [
    "# wygeneruj wektor x\n",
    "x = np.random.random(10)\n",
    "print(x)"
   ]
  },
  {
   "cell_type": "code",
   "execution_count": null,
   "metadata": {},
   "outputs": [],
   "source": [
    "# oblicz fft z x\n",
    "x_fft = np.fft.fft(x)\n",
    "x_fft"
   ]
  },
  {
   "cell_type": "code",
   "execution_count": null,
   "metadata": {},
   "outputs": [],
   "source": [
    "# oblicz ifft\n",
    "x_ifft = np.fft.ifft(x_fft)\n",
    "x_ifft"
   ]
  },
  {
   "cell_type": "code",
   "execution_count": null,
   "metadata": {},
   "outputs": [],
   "source": [
    "#porownaj x z ifft(fft(x)), wystarczy print\n",
    "print(x)\n",
    "print(x_ifft)"
   ]
  },
  {
   "cell_type": "code",
   "execution_count": null,
   "metadata": {},
   "outputs": [],
   "source": [
    "x - np.real(x_ifft)"
   ]
  },
  {
   "cell_type": "markdown",
   "metadata": {},
   "source": [
    "### Żadna informacja nie została stracona, różnice rzędu e-16 / e-17 wynikają najprawdopodobniej z dokładności liczb zmiennoprzecinkowych w komputerze"
   ]
  }
 ],
 "metadata": {
  "kernelspec": {
   "display_name": "Python 3 (ipykernel)",
   "language": "python",
   "name": "python3"
  },
  "language_info": {
   "codemirror_mode": {
    "name": "ipython",
    "version": 3
   },
   "file_extension": ".py",
   "mimetype": "text/x-python",
   "name": "python",
   "nbconvert_exporter": "python",
   "pygments_lexer": "ipython3",
   "version": "3.7.11"
  }
 },
 "nbformat": 4,
 "nbformat_minor": 2
}
