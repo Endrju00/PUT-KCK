{
 "cells": [
  {
   "cell_type": "code",
   "execution_count": null,
   "metadata": {},
   "outputs": [],
   "source": [
    "%matplotlib inline\n",
    "from skimage import data, io, morphology\n",
    "from skimage.color import rgb2hsv, hsv2rgb, rgb2gray\n",
    "from pylab import *\n",
    "from skimage.morphology import square\n",
    "import skimage as si\n",
    "import numpy as np\n",
    "from numpy import array\n",
    "import matplotlib.pyplot as pl\n",
    "\n",
    "def show(*args):\n",
    "    \"Show multiple images in a row\"\n",
    "    pl.figure(figsize=(20,12))\n",
    "    for i,img in enumerate(args):\n",
    "        pl.subplot(1, len(args), i+1)\n",
    "        imshow(img, cmap='gray')"
   ]
  },
  {
   "cell_type": "code",
   "execution_count": null,
   "metadata": {},
   "outputs": [],
   "source": [
    "figure(figsize=(15,4))\n",
    "io.imshow(io.imread('img/morphology.png'))"
   ]
  },
  {
   "cell_type": "code",
   "execution_count": null,
   "metadata": {},
   "outputs": [],
   "source": [
    "arr = zeros([7,7],dtype='uint8')\n",
    "arr[1:6,1:6]=255\n",
    "arr"
   ]
  },
  {
   "cell_type": "code",
   "execution_count": null,
   "metadata": {},
   "outputs": [],
   "source": [
    "eroded = morphology.erosion(arr, square(3))\n",
    "eroded"
   ]
  },
  {
   "cell_type": "code",
   "execution_count": null,
   "metadata": {},
   "outputs": [],
   "source": [
    "morphology.dilation(eroded, square(3))"
   ]
  },
  {
   "cell_type": "code",
   "execution_count": null,
   "metadata": {},
   "outputs": [],
   "source": [
    "# Threshold\n",
    "coins = data.coins()\n",
    "binary = coins > 150\n",
    "show(coins, binary)"
   ]
  },
  {
   "cell_type": "code",
   "execution_count": null,
   "metadata": {},
   "outputs": [],
   "source": [
    "# Erosion\n",
    "eroded = morphology.erosion(binary, square(3))\n",
    "show(binary, eroded)"
   ]
  },
  {
   "cell_type": "code",
   "execution_count": null,
   "metadata": {},
   "outputs": [],
   "source": [
    "# Dilatation\n",
    "dilated = morphology.dilation(binary, square(3))\n",
    "show(binary, dilated)"
   ]
  },
  {
   "cell_type": "code",
   "execution_count": null,
   "metadata": {},
   "outputs": [],
   "source": [
    "# Closing (small dark spots were removed)\n",
    "dilated = morphology.dilation(binary, square(5))\n",
    "eroded = morphology.erosion(dilated, square(5))\n",
    "show(binary, dilated, eroded)\n",
    "result = eroded"
   ]
  },
  {
   "cell_type": "code",
   "execution_count": null,
   "metadata": {},
   "outputs": [],
   "source": [
    "opened = morphology.opening(result, square(2))\n",
    "show(result, opened)"
   ]
  },
  {
   "cell_type": "code",
   "execution_count": null,
   "metadata": {},
   "outputs": [],
   "source": [
    "horse = (255 - data.horse())\n",
    "\n",
    "count = 3\n",
    "eroded = horse\n",
    "for i in range(count):\n",
    "    eroded = morphology.erosion(eroded, square(5))\n",
    "\n",
    "dilated = eroded\n",
    "for i in range(count):\n",
    "    dilated = morphology.dilation(dilated, square(5))\n",
    "\n",
    "show(horse, eroded, dilated)"
   ]
  },
  {
   "cell_type": "code",
   "execution_count": null,
   "metadata": {},
   "outputs": [],
   "source": [
    "horse = 255 - data.horse()\n",
    "\n",
    "count = 3\n",
    "dilated = horse\n",
    "for i in range(count):\n",
    "    dilated = morphology.dilation(dilated, square(5))\n",
    "\n",
    "eroded = dilated\n",
    "for i in range(count):\n",
    "    eroded = morphology.erosion(eroded, square(5))\n",
    "\n",
    "show(horse, dilated, eroded)"
   ]
  }
 ],
 "metadata": {
  "kernelspec": {
   "display_name": "Python 3",
   "language": "python",
   "name": "python3"
  },
  "language_info": {
   "codemirror_mode": {
    "name": "ipython",
    "version": 3
   },
   "file_extension": ".py",
   "mimetype": "text/x-python",
   "name": "python",
   "nbconvert_exporter": "python",
   "pygments_lexer": "ipython3",
   "version": "3.6.9"
  },
  "latex_envs": {
   "LaTeX_envs_menu_present": true,
   "autoclose": false,
   "autocomplete": true,
   "bibliofile": "biblio.bib",
   "cite_by": "apalike",
   "current_citInitial": 1,
   "eqLabelWithNumbers": true,
   "eqNumInitial": 1,
   "hotkeys": {
    "equation": "Ctrl-E",
    "itemize": "Ctrl-I"
   },
   "labels_anchors": false,
   "latex_user_defs": false,
   "report_style_numbering": false,
   "user_envs_cfg": false
  }
 },
 "nbformat": 4,
 "nbformat_minor": 1
}
